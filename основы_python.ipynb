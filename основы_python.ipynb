{
  "cells": [
    {
      "cell_type": "markdown",
      "metadata": {
        "id": "M-DGa20PaHnu"
      },
      "source": [
        "# Задача 1\n",
        "Написать функцию на вход которой подается строка, состоящая из латинских букв.\n",
        "Функция должна вернуть количество гласных букв (a, e, i, o, u) в этой строке. Написать тесты для кода"
      ]
    },
    {
      "cell_type": "code",
      "execution_count": 4,
      "metadata": {
        "id": "XvX8X_JJ6PCb"
      },
      "outputs": [],
      "source": [
        "import unittest\n",
        "\n",
        "def vowels_count(s: str):\n",
        "    cnt = 0\n",
        "    symbols = {'a', 'e', 'i', 'o', 'u'}\n",
        "    for c in s:\n",
        "        if c.lower() in symbols:\n",
        "            cnt += 1\n",
        "    return cnt\n",
        "\n",
        "def test1():\n",
        "    assert vowels_count(\"abc\") == 1\n",
        "\n",
        "def test2():\n",
        "    assert vowels_count(\"road\") == 2\n",
        "\n",
        "def test3():\n",
        "    assert vowels_count(\"umbrella\") == 3\n",
        "\n",
        "def test4():\n",
        "    assert vowels_count(\"magic_word\") == 3\n",
        "\n",
        "def test5():\n",
        "    assert vowels_count(\"some_very&long*string@/\") == 5\n",
        "\n",
        "def test6():\n",
        "    assert vowels_count(\"AAA\") == 3\n",
        "\n",
        "test1()\n",
        "test2()\n",
        "test3()\n",
        "test4()\n",
        "test5()\n",
        "test6()"
      ]
    },
    {
      "cell_type": "markdown",
      "metadata": {
        "id": "t2ClV_Y0bbr6"
      },
      "source": [
        "# Задача 2\n",
        "Написать функцию на вход, которой подается строка. Функция должна вернуть true, если\n",
        "каждый символ в строке встречается только 1 раз, иначе должна вернуть false. Написать тесты для кода"
      ]
    },
    {
      "cell_type": "code",
      "execution_count": 3,
      "metadata": {
        "id": "FppbECao6VIz"
      },
      "outputs": [],
      "source": [
        "def is_unique(s: str):\n",
        "    unique_chars = set(s)\n",
        "    return len(unique_chars) == len(s)\n",
        "\n",
        "def test1():\n",
        "    assert is_unique(\"abcd\") == True\n",
        "\n",
        "def test2():\n",
        "    assert is_unique(\"abcdb\") == False\n",
        "\n",
        "def test3():\n",
        "    assert is_unique(\"keyboard\") == True\n",
        "\n",
        "def test4():\n",
        "    assert is_unique(\"strange_word\") == False\n",
        "\n",
        "def test5():\n",
        "    assert is_unique(\"qwertyuiopasdfghjklzxcvbnm\") == True\n",
        "\n",
        "test1()\n",
        "test2()\n",
        "test3()\n",
        "test4()\n",
        "test5()"
      ]
    },
    {
      "cell_type": "markdown",
      "metadata": {
        "id": "udRiIK1cdt6E"
      },
      "source": [
        "# Задача 3\n",
        "Написать функцию, которая принимает положительное число и возвращает количество\n",
        "бит равных 1 в этом числе. Написать тесты для кода"
      ]
    },
    {
      "cell_type": "code",
      "execution_count": 2,
      "metadata": {
        "id": "6tkfDJRz6dp_"
      },
      "outputs": [],
      "source": [
        "def count_1_bits(n: int):\n",
        "    binary = bin(n)[2:]\n",
        "    return binary.count('1')\n",
        "\n",
        "def test1():\n",
        "    assert count_1_bits(3) == 2 # 11\n",
        "\n",
        "def test2():\n",
        "    assert count_1_bits(7) == 3 # 111\n",
        "\n",
        "def test3():\n",
        "    assert count_1_bits(23) == 4 # 10111\n",
        "\n",
        "def test4():\n",
        "    assert count_1_bits(84) == 3 # 1010100\n",
        "\n",
        "def test5():\n",
        "    assert count_1_bits(64952) == 11 # 1111110110111000\n",
        "\n",
        "test1()\n",
        "test2()\n",
        "test3()\n",
        "test4()\n",
        "test5()"
      ]
    },
    {
      "cell_type": "markdown",
      "metadata": {
        "id": "26dDUz-Ae17N"
      },
      "source": [
        "# Задача 4\n",
        "Написать функцию, которая принимает положительное число. Функция должна вернуть то,\n",
        "сколько раз необходимо перемножать цифры числа или результат перемножения, чтобы\n",
        "получилось число состоящее из одной цифры.\n",
        "Например, для входного числа:\n",
        "· 39 функция должна вернуть 3, так как 3*9=27 => 2*7=14 => 1*4=4\n",
        "· 4 функция должна вернуть 0, так как число уже состоит из одной цифры\n",
        "· 999 функция должна вернуть 4, так как 9*9*9=729 => 7*2*9=126 => 1*2*6=12 =>\n",
        "1*2=2. Написать тесты для кода"
      ]
    },
    {
      "cell_type": "code",
      "execution_count": null,
      "metadata": {
        "id": "BH1A_Mgi6i4G",
        "outputId": "6f07c63f-7bdf-4ecb-9702-6aefb1b044fc"
      },
      "outputs": [
        {
          "name": "stdout",
          "output_type": "stream",
          "text": [
            "3\n",
            "0\n",
            "4\n",
            "2\n"
          ]
        }
      ],
      "source": [
        "def magic(n: int, depth=0):\n",
        "    string_number = str(n)\n",
        "    if len(string_number) == 1:\n",
        "        return depth\n",
        "\n",
        "    product=1\n",
        "    for digit in string_number:\n",
        "        product *= int(digit)\n",
        "    return magic(product, depth=depth+1)\n",
        "\n",
        "print(magic(39)) # 3\n",
        "print(magic(4)) # 0\n",
        "print(magic(999)) # 4\n",
        "print(magic(253)) # 2"
      ]
    },
    {
      "cell_type": "markdown",
      "metadata": {
        "id": "0nS-kIa8g8vd"
      },
      "source": [
        "# Задача 5\n",
        "Написать функцию, которая принимает два целочисленных вектора одинаковой длины и\n",
        "возвращает среднеквадратическое отклонение двух векторов. Написать тесты для кода"
      ]
    },
    {
      "cell_type": "code",
      "execution_count": null,
      "metadata": {
        "id": "8iphx4LM6xbx",
        "outputId": "8839a48c-f79a-4a36-eb52-026c34f56ae9"
      },
      "outputs": [
        {
          "name": "stdout",
          "output_type": "stream",
          "text": [
            "18.5\n",
            "2.0\n",
            "6.75\n"
          ]
        }
      ],
      "source": [
        "def mse(pred, true):\n",
        "    result = 0\n",
        "    n = len(pred)\n",
        "    for i in range(n):\n",
        "        diff = pred[i] - true[i]\n",
        "        sqr_diff = diff * diff\n",
        "        result += sqr_diff\n",
        "    return result / n\n",
        "\n",
        "print(mse([1,3], [7,2])) # 37 / 2 = 18.5\n",
        "print(mse([3,2,6], [2,4,5])) # 6 / 3 = 2\n",
        "print(mse([2,3,4,5], [1,2,7,1])) # 27 / 4 = 6.75"
      ]
    },
    {
      "cell_type": "markdown",
      "metadata": {
        "id": "vpIPKL439zkw"
      },
      "source": [
        "# Задача 6\n",
        "Написать функцию, принимающая целое положительное число. Функция должна вернуть\n",
        "строку вида “(n1**p1)(n2**p2)…(nk**pk)” представляющая разложение числа на простые\n",
        "множители (если pi == 1, то выводить только ni).\n",
        "Например, для числа 86240 функция должна вернуть “(2**5)(5)(7**2)(11)”. Написать тесты для кода"
      ]
    },
    {
      "cell_type": "code",
      "execution_count": null,
      "metadata": {
        "id": "pFebmcZk94Jw",
        "outputId": "c8c8b435-cd98-4393-97a7-3c4404a0c1db"
      },
      "outputs": [
        {
          "name": "stdout",
          "output_type": "stream",
          "text": [
            "(3)(23)\n",
            "(2)(59)\n",
            "(2)(3)(23)(331)\n",
            "(2**4)(11)(457)\n"
          ]
        }
      ],
      "source": [
        "import pdb\n",
        "def prime_factorization(n: int):\n",
        "    if n < 2:\n",
        "        return (n)\n",
        "    primes = find_primes(n)\n",
        "    result = \"\"\n",
        "    for prime in primes:\n",
        "        p = 0\n",
        "        while n % prime == 0:\n",
        "            n /= prime\n",
        "            p += 1\n",
        "        if p > 1:\n",
        "            result += f\"({prime}**{p})\"\n",
        "        elif p == 1:\n",
        "            result += f\"({prime})\"\n",
        "        if n == 1:\n",
        "            break\n",
        "    return result\n",
        "\n",
        "def find_primes(n: int):\n",
        "    is_prime = [True for _ in range(n+1)]\n",
        "    is_prime[0], is_prime[1] = False, False\n",
        "    for i in range(2, int(n**0.5) + 1): # до n!!!!!\n",
        "        if is_prime[i]:\n",
        "            for j in range(i*i, n+1, i):\n",
        "                is_prime[j] = False\n",
        "\n",
        "    primes = [i for i, prime in enumerate(is_prime) if prime]\n",
        "    return primes\n",
        "\n",
        "print(prime_factorization(69))\n",
        "print(prime_factorization(118))\n",
        "print(prime_factorization(45678))\n",
        "print(prime_factorization(80432))"
      ]
    },
    {
      "cell_type": "markdown",
      "metadata": {
        "id": "ps2s0BudX7A2"
      },
      "source": [
        "# Задача 7\n",
        "Написать функцию, принимающая целое число n, задающее количество кубиков. Функция\n",
        "должна определить, можно ли из данного кол-ва кубиков построить пирамиду, то есть\n",
        "можно ли представить число n как 1^2+2^2+3^2+…+k^2. Если можно, то функция должна\n",
        "вернуть k, иначе строку “It is impossible”. Написать тесты для кода"
      ]
    },
    {
      "cell_type": "code",
      "execution_count": null,
      "metadata": {
        "colab": {
          "base_uri": "https://localhost:8080/"
        },
        "id": "3YPjEXxhX_YT",
        "outputId": "079086ed-2b76-4114-ecc4-20e6aa27755e"
      },
      "outputs": [
        {
          "name": "stdout",
          "output_type": "stream",
          "text": [
            "3\n",
            "It is impossible\n",
            "4\n"
          ]
        }
      ],
      "source": [
        "def pyramid(number):\n",
        "    k = 1\n",
        "    while k * k <= number:\n",
        "        number -= k * k\n",
        "        if number == 0:\n",
        "            return k\n",
        "        k += 1\n",
        "    return \"It is impossible\"\n",
        "\n",
        "print(pyramid(14)) # 1+4+9\n",
        "print(pyramid(15))\n",
        "print(pyramid(30)) #1+4+9+16"
      ]
    },
    {
      "cell_type": "markdown",
      "metadata": {
        "id": "KeKgmIdAQMEJ"
      },
      "source": [
        "# Задача 8\n",
        "Функция принимает на вход положительное число и определяет является ли оно сбалансированным, т.е. сумма цифр до средних равна сумме цифр после. Средними в случае нечетного числа цифр считать одну цифру, в случае четного - две средних. Написать тесты для кода"
      ]
    },
    {
      "cell_type": "code",
      "execution_count": null,
      "metadata": {
        "colab": {
          "base_uri": "https://localhost:8080/"
        },
        "id": "gMAAqtqlQrZt",
        "outputId": "0df87a0e-a7b5-4f38-c9d8-146c03bbd396"
      },
      "outputs": [
        {
          "name": "stdout",
          "output_type": "stream",
          "text": [
            "True\n",
            "False\n",
            "True\n"
          ]
        }
      ],
      "source": [
        "def is_balanced(n: int):\n",
        "    s = str(n)\n",
        "    if len(s) % 2 == 1:\n",
        "        s1 = sum(int(digit) for digit in s[:len(s)//2])\n",
        "        s2 = sum(int(digit) for digit in s[len(s)//2+1:])\n",
        "    else:\n",
        "        s1 = sum(int(digit) for digit in s[:len(s)//2-1])\n",
        "        s2 = sum(int(digit) for digit in s[len(s)//2+1:])\n",
        "    if s1 == s2:\n",
        "        return True\n",
        "    return False\n",
        "\n",
        "print(is_balanced(87596)) # true\n",
        "print(is_balanced(123)) # false\n",
        "print(is_balanced(169034)) # true"
      ]
    }
  ],
  "metadata": {
    "colab": {
      "provenance": []
    },
    "kernelspec": {
      "display_name": "Python 3 (ipykernel)",
      "language": "python",
      "name": "python3"
    },
    "language_info": {
      "codemirror_mode": {
        "name": "ipython",
        "version": 3
      },
      "file_extension": ".py",
      "mimetype": "text/x-python",
      "name": "python",
      "nbconvert_exporter": "python",
      "pygments_lexer": "ipython3",
      "version": "3.12.7"
    }
  },
  "nbformat": 4,
  "nbformat_minor": 0
}